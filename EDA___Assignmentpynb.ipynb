{
  "nbformat": 4,
  "nbformat_minor": 0,
  "metadata": {
    "colab": {
      "provenance": []
    },
    "kernelspec": {
      "name": "python3",
      "display_name": "Python 3"
    },
    "language_info": {
      "name": "python"
    }
  },
  "cells": [
    {
      "cell_type": "markdown",
      "source": [
        "**EDA | Assignment  Question and Answer**"
      ],
      "metadata": {
        "id": "yWFXN7SWoKWX"
      }
    },
    {
      "cell_type": "code",
      "source": [
        "#Q1: Read the Bike Details dataset into a Pandas DataFrame and display its first 10 rows. (Show the shape and column names as well.)\n",
        "\n",
        "#Answer:\n",
        "\n",
        "import pandas as pd\n",
        "\n",
        "df = pd.read_csv(\"BikeDetails.csv\")\n",
        "print(\"Shape:\", df.shape)\n",
        "print(\"Columns:\", df.columns.tolist())\n",
        "print(df.head(10))"
      ],
      "metadata": {
        "id": "A4sMomTFoMCn"
      },
      "execution_count": null,
      "outputs": []
    },
    {
      "cell_type": "code",
      "source": [
        "#Q2: Check for missing values in all columns and describe your approach for handling them.\n",
        "\n",
        "#Answer:\n",
        "\n",
        "print(df.isnull().sum())\n",
        "\n",
        "\n",
        "#Approach:\n",
        "\n",
        "#Numerical columns → fill with mean/median.\n",
        "\n",
        "#Categorical columns → fill with mode or “Unknown”.\n",
        "\n",
        "#Drop rows only if missing % > 30%."
      ],
      "metadata": {
        "id": "fkWT1fGBoMK_"
      },
      "execution_count": null,
      "outputs": []
    },
    {
      "cell_type": "code",
      "source": [
        "#Q3: Plot the distribution of selling prices using a histogram and describe the trend.\n",
        "\n",
        "#Answer:\n",
        "\n",
        "import matplotlib.pyplot as plt\n",
        "\n",
        "df['selling_price'].hist(bins=30, color='skyblue', edgecolor='black')\n",
        "plt.title(\"Distribution of Selling Prices\")\n",
        "plt.xlabel(\"Price\")\n",
        "plt.ylabel(\"Frequency\")\n",
        "plt.show()\n",
        "#Observation: Most bikes are in the lower to mid-price range, with fewer in the high-price range."
      ],
      "metadata": {
        "id": "bkrx3QDgoMaH"
      },
      "execution_count": null,
      "outputs": []
    },
    {
      "cell_type": "code",
      "source": [
        "#Q4: Create a bar plot to visualize average selling price for each seller_type and write one observation.\n",
        "\n",
        "#Answer:\n",
        "\n",
        "avg_price = df.groupby(\"seller_type\")['selling_price'].mean()\n",
        "avg_price.plot(kind='bar', color='orange')\n",
        "plt.title(\"Average Selling Price by Seller Type\")\n",
        "plt.ylabel(\"Average Price\")\n",
        "plt.show()\n",
        "\n",
        "\n",
        "#Observation: Dealers tend to sell bikes at higher average prices than individuals."
      ],
      "metadata": {
        "id": "rOuNhKKKoMmH"
      },
      "execution_count": null,
      "outputs": []
    },
    {
      "cell_type": "code",
      "source": [
        "#Q5: Compute the average km_driven for each ownership type and present the result as a bar plot.\n",
        "\n",
        "#Answer:\n",
        "\n",
        "avg_km = df.groupby(\"owner\")['km_driven'].mean()\n",
        "avg_km.plot(kind='bar', color='green')\n",
        "plt.title(\"Average KM Driven by Ownership Type\")\n",
        "plt.ylabel(\"KM Driven\")\n",
        "plt.show()\n",
        "\n",
        "\n",
        "#Observation: Bikes with multiple previous owners usually have higher km driven."
      ],
      "metadata": {
        "id": "WncTzgnIpL6v"
      },
      "execution_count": null,
      "outputs": []
    },
    {
      "cell_type": "code",
      "source": [
        "#Q6: Use the IQR method to detect and remove outliers from km_driven. Show before-and-after summary.\n",
        "\n",
        "#Answer:\n",
        "\n",
        "Q1 = df['km_driven'].quantile(0.25)\n",
        "Q3 = df['km_driven'].quantile(0.75)\n",
        "IQR = Q3 - Q1\n",
        "lower = Q1 - 1.5*IQR\n",
        "upper = Q3 + 1.5*IQR\n",
        "\n",
        "print(\"Before:\", df['km_driven'].describe())\n",
        "df = df[(df['km_driven'] >= lower) & (df['km_driven'] <= upper)]\n",
        "print(\"After:\", df['km_driven'].describe())\n",
        "\n",
        "\n",
        "#Observation: Extreme high values were removed → dataset becomes more consistent."
      ],
      "metadata": {
        "id": "QeyJKw9XpUv_"
      },
      "execution_count": null,
      "outputs": []
    },
    {
      "cell_type": "code",
      "source": [
        "#Q7: Create a scatter plot of year vs selling_price.\n",
        "\n",
        "#Answer:\n",
        "\n",
        "plt.scatter(df['year'], df['selling_price'], alpha=0.5)\n",
        "plt.title(\"Year vs Selling Price\")\n",
        "plt.xlabel(\"Year\")\n",
        "plt.ylabel(\"Selling Price\")\n",
        "plt.show()\n",
        "\n",
        "\n",
        "#Observation: Newer bikes generally have higher resale value, older bikes sell for less."
      ],
      "metadata": {
        "id": "XyvJrmq8pXxW"
      },
      "execution_count": null,
      "outputs": []
    },
    {
      "cell_type": "code",
      "source": [
        "#Q8: Convert seller_type column into numeric format using one-hot encoding.\n",
        "\n",
        "#Answer:\n",
        "\n",
        "df_encoded = pd.get_dummies(df, columns=['seller_type'])\n",
        "print(df_encoded.head())"
      ],
      "metadata": {
        "id": "pgLf5jIgpkcn"
      },
      "execution_count": null,
      "outputs": []
    },
    {
      "cell_type": "code",
      "source": [
        "#Q9: Generate a heatmap of the correlation matrix for numeric columns. What correlations stand out?\n",
        "\n",
        "#Answer:\n",
        "\n",
        "import seaborn as sns\n",
        "\n",
        "corr = df.corr(numeric_only=True)\n",
        "sns.heatmap(corr, annot=True, cmap=\"coolwarm\")\n",
        "plt.title(\"Correlation Heatmap\")\n",
        "plt.show()\n",
        "\n",
        "\n",
        "#Observation:\n",
        "\n",
        "#Selling price has strong correlation with year (newer = higher price).\n",
        "\n",
        "#Weak correlation with km_driven (more driven = slightly lower price)."
      ],
      "metadata": {
        "id": "Hgh-nT0VpkI-"
      },
      "execution_count": null,
      "outputs": []
    },
    {
      "cell_type": "markdown",
      "source": [
        "Q10: Summarize findings in a brief report.\n",
        "\n",
        "Answer:\n",
        "\n",
        "Factors affecting price: Year (new bikes = higher price), seller type (dealer > individual), km_driven (more km = lower price).\n",
        "\n",
        "Data cleaning: Handled missing values, removed km_driven outliers using IQR.\n",
        "\n",
        "Feature engineering: One-hot encoding for seller_type, scaling numerical features if needed.\n",
        "\n",
        "Conclusion: Resale price mainly depends on bike age and ownership history."
      ],
      "metadata": {
        "id": "vyz-_wv7pqJ3"
      }
    }
  ]
}